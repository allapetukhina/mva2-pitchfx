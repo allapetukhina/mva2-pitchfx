{
 "cells": [
  {
   "cell_type": "markdown",
   "metadata": {},
   "source": [
    "# MVA2 PitchFX Cluster Project\n"
   ]
  },
  {
   "cell_type": "code",
   "execution_count": 1,
   "metadata": {
    "collapsed": false
   },
   "outputs": [],
   "source": [
    "#options(repos = c(CRAN = \"http://cran.rstudio.com\"))\n",
    "#install.packages(\"pitchRx\")\n",
    "#install.packages(\"e1071\")\n",
    "#install.packages(\"dplyr\")"
   ]
  },
  {
   "cell_type": "code",
   "execution_count": 2,
   "metadata": {
    "collapsed": false
   },
   "outputs": [
    {
     "name": "stderr",
     "output_type": "stream",
     "text": [
      "Loading required package: ggplot2\n",
      "\n",
      "Attaching package: ‘dplyr’\n",
      "\n",
      "The following objects are masked from ‘package:stats’:\n",
      "\n",
      "    filter, lag\n",
      "\n",
      "The following objects are masked from ‘package:base’:\n",
      "\n",
      "    intersect, setdiff, setequal, union\n",
      "\n"
     ]
    }
   ],
   "source": [
    "library(pitchRx)\n",
    "library(dplyr)\n",
    "library(e1071)"
   ]
  },
  {
   "cell_type": "code",
   "execution_count": 3,
   "metadata": {
    "collapsed": false
   },
   "outputs": [
    {
     "data": {
      "text/html": [
       "<ol class=list-inline>\n",
       "\t<li>946</li>\n",
       "\t<li>70</li>\n",
       "</ol>\n"
      ],
      "text/latex": [
       "\\begin{enumerate*}\n",
       "\\item 946\n",
       "\\item 70\n",
       "\\end{enumerate*}\n"
      ],
      "text/markdown": [
       "1. 946\n",
       "2. 70\n",
       "\n",
       "\n"
      ],
      "text/plain": [
       "[1] 946  70"
      ]
     },
     "execution_count": 3,
     "metadata": {},
     "output_type": "execute_result"
    },
    {
     "data": {
      "text/html": [
       "<ol class=list-inline>\n",
       "\t<li>'url'</li>\n",
       "\t<li>'inning_side'</li>\n",
       "\t<li>'inning'</li>\n",
       "\t<li>'next_'</li>\n",
       "\t<li>'num'</li>\n",
       "\t<li>'gameday_link'</li>\n",
       "\t<li>'row_names'</li>\n",
       "\t<li>'des'</li>\n",
       "\t<li>'des_es'</li>\n",
       "\t<li>'id'</li>\n",
       "\t<li>'type'</li>\n",
       "\t<li>'tfs'</li>\n",
       "\t<li>'tfs_zulu'</li>\n",
       "\t<li>'x'</li>\n",
       "\t<li>'y'</li>\n",
       "\t<li>'sv_id'</li>\n",
       "\t<li>'start_speed'</li>\n",
       "\t<li>'end_speed'</li>\n",
       "\t<li>'sz_top'</li>\n",
       "\t<li>'sz_bot'</li>\n",
       "\t<li>'pfx_x'</li>\n",
       "\t<li>'pfx_z'</li>\n",
       "\t<li>'px'</li>\n",
       "\t<li>'pz'</li>\n",
       "\t<li>'x0'</li>\n",
       "\t<li>'y0'</li>\n",
       "\t<li>'z0'</li>\n",
       "\t<li>'vx0'</li>\n",
       "\t<li>'vy0'</li>\n",
       "\t<li>'vz0'</li>\n",
       "\t<li>'ax'</li>\n",
       "\t<li>'ay'</li>\n",
       "\t<li>'az'</li>\n",
       "\t<li>'break_y'</li>\n",
       "\t<li>'break_angle'</li>\n",
       "\t<li>'break_length'</li>\n",
       "\t<li>'pitch_type'</li>\n",
       "\t<li>'type_confidence'</li>\n",
       "\t<li>'zone'</li>\n",
       "\t<li>'nasty'</li>\n",
       "\t<li>'spin_dir'</li>\n",
       "\t<li>'spin_rate'</li>\n",
       "\t<li>'cc'</li>\n",
       "\t<li>'mt'</li>\n",
       "\t<li>'on_1b'</li>\n",
       "\t<li>'on_2b'</li>\n",
       "\t<li>'on_3b'</li>\n",
       "\t<li>'count'</li>\n",
       "\t<li>'pitcher'</li>\n",
       "\t<li>'batter'</li>\n",
       "\t<li>'b'</li>\n",
       "\t<li>'s'</li>\n",
       "\t<li>'o'</li>\n",
       "\t<li>'start_tfs'</li>\n",
       "\t<li>'start_tfs_zulu'</li>\n",
       "\t<li>'stand'</li>\n",
       "\t<li>'b_height'</li>\n",
       "\t<li>'p_throws'</li>\n",
       "\t<li>'atbat_des'</li>\n",
       "\t<li>'atbat_des_es'</li>\n",
       "\t<li>'event'</li>\n",
       "\t<li>'score'</li>\n",
       "\t<li>'home_team_runs'</li>\n",
       "\t<li>'away_team_runs'</li>\n",
       "\t<li>'event2'</li>\n",
       "\t<li>'event3'</li>\n",
       "\t<li>'batter_name'</li>\n",
       "\t<li>'pitcher_name'</li>\n",
       "\t<li>'event4'</li>\n",
       "\t<li>'date'</li>\n",
       "</ol>\n"
      ],
      "text/latex": [
       "\\begin{enumerate*}\n",
       "\\item 'url'\n",
       "\\item 'inning_side'\n",
       "\\item 'inning'\n",
       "\\item 'next_'\n",
       "\\item 'num'\n",
       "\\item 'gameday_link'\n",
       "\\item 'row_names'\n",
       "\\item 'des'\n",
       "\\item 'des_es'\n",
       "\\item 'id'\n",
       "\\item 'type'\n",
       "\\item 'tfs'\n",
       "\\item 'tfs_zulu'\n",
       "\\item 'x'\n",
       "\\item 'y'\n",
       "\\item 'sv_id'\n",
       "\\item 'start_speed'\n",
       "\\item 'end_speed'\n",
       "\\item 'sz_top'\n",
       "\\item 'sz_bot'\n",
       "\\item 'pfx_x'\n",
       "\\item 'pfx_z'\n",
       "\\item 'px'\n",
       "\\item 'pz'\n",
       "\\item 'x0'\n",
       "\\item 'y0'\n",
       "\\item 'z0'\n",
       "\\item 'vx0'\n",
       "\\item 'vy0'\n",
       "\\item 'vz0'\n",
       "\\item 'ax'\n",
       "\\item 'ay'\n",
       "\\item 'az'\n",
       "\\item 'break_y'\n",
       "\\item 'break_angle'\n",
       "\\item 'break_length'\n",
       "\\item 'pitch_type'\n",
       "\\item 'type_confidence'\n",
       "\\item 'zone'\n",
       "\\item 'nasty'\n",
       "\\item 'spin_dir'\n",
       "\\item 'spin_rate'\n",
       "\\item 'cc'\n",
       "\\item 'mt'\n",
       "\\item 'on_1b'\n",
       "\\item 'on_2b'\n",
       "\\item 'on_3b'\n",
       "\\item 'count'\n",
       "\\item 'pitcher'\n",
       "\\item 'batter'\n",
       "\\item 'b'\n",
       "\\item 's'\n",
       "\\item 'o'\n",
       "\\item 'start_tfs'\n",
       "\\item 'start_tfs_zulu'\n",
       "\\item 'stand'\n",
       "\\item 'b_height'\n",
       "\\item 'p_throws'\n",
       "\\item 'atbat_des'\n",
       "\\item 'atbat_des_es'\n",
       "\\item 'event'\n",
       "\\item 'score'\n",
       "\\item 'home_team_runs'\n",
       "\\item 'away_team_runs'\n",
       "\\item 'event2'\n",
       "\\item 'event3'\n",
       "\\item 'batter_name'\n",
       "\\item 'pitcher_name'\n",
       "\\item 'event4'\n",
       "\\item 'date'\n",
       "\\end{enumerate*}\n"
      ],
      "text/markdown": [
       "1. 'url'\n",
       "2. 'inning_side'\n",
       "3. 'inning'\n",
       "4. 'next_'\n",
       "5. 'num'\n",
       "6. 'gameday_link'\n",
       "7. 'row_names'\n",
       "8. 'des'\n",
       "9. 'des_es'\n",
       "10. 'id'\n",
       "11. 'type'\n",
       "12. 'tfs'\n",
       "13. 'tfs_zulu'\n",
       "14. 'x'\n",
       "15. 'y'\n",
       "16. 'sv_id'\n",
       "17. 'start_speed'\n",
       "18. 'end_speed'\n",
       "19. 'sz_top'\n",
       "20. 'sz_bot'\n",
       "21. 'pfx_x'\n",
       "22. 'pfx_z'\n",
       "23. 'px'\n",
       "24. 'pz'\n",
       "25. 'x0'\n",
       "26. 'y0'\n",
       "27. 'z0'\n",
       "28. 'vx0'\n",
       "29. 'vy0'\n",
       "30. 'vz0'\n",
       "31. 'ax'\n",
       "32. 'ay'\n",
       "33. 'az'\n",
       "34. 'break_y'\n",
       "35. 'break_angle'\n",
       "36. 'break_length'\n",
       "37. 'pitch_type'\n",
       "38. 'type_confidence'\n",
       "39. 'zone'\n",
       "40. 'nasty'\n",
       "41. 'spin_dir'\n",
       "42. 'spin_rate'\n",
       "43. 'cc'\n",
       "44. 'mt'\n",
       "45. 'on_1b'\n",
       "46. 'on_2b'\n",
       "47. 'on_3b'\n",
       "48. 'count'\n",
       "49. 'pitcher'\n",
       "50. 'batter'\n",
       "51. 'b'\n",
       "52. 's'\n",
       "53. 'o'\n",
       "54. 'start_tfs'\n",
       "55. 'start_tfs_zulu'\n",
       "56. 'stand'\n",
       "57. 'b_height'\n",
       "58. 'p_throws'\n",
       "59. 'atbat_des'\n",
       "60. 'atbat_des_es'\n",
       "61. 'event'\n",
       "62. 'score'\n",
       "63. 'home_team_runs'\n",
       "64. 'away_team_runs'\n",
       "65. 'event2'\n",
       "66. 'event3'\n",
       "67. 'batter_name'\n",
       "68. 'pitcher_name'\n",
       "69. 'event4'\n",
       "70. 'date'\n",
       "\n",
       "\n"
      ],
      "text/plain": [
       " [1] \"url\"             \"inning_side\"     \"inning\"          \"next_\"          \n",
       " [5] \"num\"             \"gameday_link\"    \"row_names\"       \"des\"            \n",
       " [9] \"des_es\"          \"id\"              \"type\"            \"tfs\"            \n",
       "[13] \"tfs_zulu\"        \"x\"               \"y\"               \"sv_id\"          \n",
       "[17] \"start_speed\"     \"end_speed\"       \"sz_top\"          \"sz_bot\"         \n",
       "[21] \"pfx_x\"           \"pfx_z\"           \"px\"              \"pz\"             \n",
       "[25] \"x0\"              \"y0\"              \"z0\"              \"vx0\"            \n",
       "[29] \"vy0\"             \"vz0\"             \"ax\"              \"ay\"             \n",
       "[33] \"az\"              \"break_y\"         \"break_angle\"     \"break_length\"   \n",
       "[37] \"pitch_type\"      \"type_confidence\" \"zone\"            \"nasty\"          \n",
       "[41] \"spin_dir\"        \"spin_rate\"       \"cc\"              \"mt\"             \n",
       "[45] \"on_1b\"           \"on_2b\"           \"on_3b\"           \"count\"          \n",
       "[49] \"pitcher\"         \"batter\"          \"b\"               \"s\"              \n",
       "[53] \"o\"               \"start_tfs\"       \"start_tfs_zulu\"  \"stand\"          \n",
       "[57] \"b_height\"        \"p_throws\"        \"atbat_des\"       \"atbat_des_es\"   \n",
       "[61] \"event\"           \"score\"           \"home_team_runs\"  \"away_team_runs\" \n",
       "[65] \"event2\"          \"event3\"          \"batter_name\"     \"pitcher_name\"   \n",
       "[69] \"event4\"          \"date\"           "
      ]
     },
     "execution_count": 3,
     "metadata": {},
     "output_type": "execute_result"
    }
   ],
   "source": [
    "# Analsys with \"pitches\" data (2011)\n",
    "rivera = subset(pitches, pitcher == 121250)\n",
    "hughes = subset(pitches, pitcher == 461833)\n",
    "dim(hughes)\n",
    "# 946 70\n",
    "names(hughes)\n",
    "# 'url' 'inning_side' 'inning' 'next_' 'num' 'gameday_link' 'row_names' 'des' 'des_es' 'id' 'type' 'tfs' 'tfs_zulu' 'x' 'y' 'sv_id' 'start_speed' 'end_speed' 'sz_top' 'sz_bot' 'pfx_x' 'pfx_z' 'px' 'pz' 'x0' 'y0' 'z0' 'vx0' 'vy0' 'vz0' 'ax' 'ay' 'az' 'break_y' 'break_angle' 'break_length' 'pitch_type' 'type_confidence' 'zone' 'nasty' 'spin_dir' 'spin_rate' 'cc' 'mt' 'on_1b' 'on_2b' 'on_3b' 'count' 'pitcher' 'batter' 'b' 's' 'o' 'start_tfs' 'start_tfs_zulu' 'stand' 'b_height' 'p_throws' 'atbat_des' 'atbat_des_es' 'event' 'score' 'home_team_runs' 'away_team_runs' 'event2' 'event3' 'batter_name' 'pitcher_name' 'event4' 'date'\n",
    "# rivera[,c(17, 34, 35, 36, 41, 42)]\n",
    "# start_speed break_y break_angle break_length spin_dir spin_rate"
   ]
  },
  {
   "cell_type": "code",
   "execution_count": 4,
   "metadata": {
    "collapsed": false
   },
   "outputs": [
    {
     "name": "stdout",
     "output_type": "stream",
     "text": [
      "[1] \"K-Means Clustering\"\n",
      "[1] \"Mariano Rivera\"\n"
     ]
    },
    {
     "data": {
      "text/plain": [
       "    \n",
       "       1   2\n",
       "  FC 375 414\n",
       "  FF  85  38"
      ]
     },
     "execution_count": 4,
     "metadata": {},
     "output_type": "execute_result"
    },
    {
     "data": {
      "text/plain": [
       "    \n",
       "       1   2\n",
       "  FC  30 759\n",
       "  FF 119   4"
      ]
     },
     "execution_count": 4,
     "metadata": {},
     "output_type": "execute_result"
    },
    {
     "name": "stdout",
     "output_type": "stream",
     "text": [
      "[1] \"Phil Hughes\"\n"
     ]
    },
    {
     "data": {
      "text/plain": [
       "    \n",
       "       1   2\n",
       "  FC 136  12\n",
       "  FF 192 606"
      ]
     },
     "execution_count": 4,
     "metadata": {},
     "output_type": "execute_result"
    },
    {
     "data": {
      "text/plain": [
       "    \n",
       "       1   2\n",
       "  FC   0 148\n",
       "  FF 784  14"
      ]
     },
     "execution_count": 4,
     "metadata": {},
     "output_type": "execute_result"
    }
   ],
   "source": [
    "# KMeans Clustering\n",
    "print(\"K-Means Clustering\")\n",
    "print(\"Mariano Rivera\")\n",
    "riveraNSC = sapply(rivera[,c(17, 34, 35, 36, 41, 42)], as.numeric)\n",
    "riveraSC = scale(riveraNSC)\n",
    "pclust.NSC.rivera <- kmeans(riveraNSC, 2, nstart=10)\n",
    "rivera$clusterNSC <- pclust.NSC.rivera$cluster\n",
    "pclust.SC.rivera <- kmeans(riveraSC, 2, nstart=10)\n",
    "rivera$clusterSC <- pclust.SC.rivera$cluster\n",
    "table(rivera$pitch_type, rivera$clusterNSC)\n",
    "table(rivera$pitch_type, rivera$clusterSC)\n",
    "\n",
    "print(\"Phil Hughes\")\n",
    "hughesNSC = sapply(hughes[,c(17, 34, 35, 36, 41, 42)], as.numeric)\n",
    "hughesSC = scale(hughesNSC)\n",
    "pclust.NSC.hughes <- kmeans(hughesNSC, 2, nstart=10)\n",
    "hughes$clusterNSC <- pclust.NSC.hughes$cluster\n",
    "pclust.SC.hughes <- kmeans(hughesSC, 2, nstart=10)\n",
    "hughes$clusterSC <- pclust.SC.hughes$cluster\n",
    "table(hughes$pitch_type, hughes$clusterNSC)\n",
    "table(hughes$pitch_type, hughes$clusterSC)"
   ]
  },
  {
   "cell_type": "code",
   "execution_count": 5,
   "metadata": {
    "collapsed": false
   },
   "outputs": [
    {
     "name": "stdout",
     "output_type": "stream",
     "text": [
      "[1] \"Hierarchical Clustering\"\n",
      "[1] \"Mariano Rivera\"\n"
     ]
    },
    {
     "data": {
      "text/plain": [
       "    \n",
       "       1   2\n",
       "  FC 786   3\n",
       "  FF  17 106"
      ]
     },
     "execution_count": 5,
     "metadata": {},
     "output_type": "execute_result"
    },
    {
     "data": {
      "text/plain": [
       "   \n",
       "      1   2\n",
       "  1  41 108\n",
       "  2 762   1"
      ]
     },
     "execution_count": 5,
     "metadata": {},
     "output_type": "execute_result"
    },
    {
     "name": "stdout",
     "output_type": "stream",
     "text": [
      "[1] \"Phil Hughes\"\n"
     ]
    },
    {
     "data": {
      "text/plain": [
       "    \n",
       "       1   2\n",
       "  FC   1 147\n",
       "  FF 782  16"
      ]
     },
     "execution_count": 5,
     "metadata": {},
     "output_type": "execute_result"
    },
    {
     "data": {
      "text/plain": [
       "   \n",
       "      1   2\n",
       "  1 773  11\n",
       "  2  10 152"
      ]
     },
     "execution_count": 5,
     "metadata": {},
     "output_type": "execute_result"
    }
   ],
   "source": [
    "# Hierarchical Clustering\n",
    "# http://www.r-tutor.com/gpu-computing/clustering/hierarchical-cluster-analysis\n",
    "# https://stat.ethz.ch/R-manual/R-devel/library/stats/html/dist.html\n",
    "# https://stat.ethz.ch/R-manual/R-devel/library/stats/html/hclust.html\n",
    "print(\"Hierarchical Clustering\")\n",
    "print(\"Mariano Rivera\")\n",
    "d.rivera = dist(as.matrix(riveraSC), method = 'maximum')\n",
    "hc.rivera = hclust(d.rivera, method = 'ward.D2')\n",
    "clustcut.rivera = cutree(hc.rivera, 2)\n",
    "rivera$hierclust <- clustcut.rivera\n",
    "table(rivera$pitch_type, rivera$hierclust)\n",
    "table(rivera$clusterSC, rivera$hierclust)\n",
    "\n",
    "print(\"Phil Hughes\")\n",
    "d.hughes = dist(as.matrix(hughesSC), method = 'maximum')\n",
    "hc.hughes = hclust(d.hughes, method = 'ward.D2')\n",
    "clustcut.hughes = cutree(hc.hughes, 2)\n",
    "hughes$hierclust <- clustcut.hughes\n",
    "table(hughes$pitch_type, hughes$hierclust)\n",
    "table(hughes$clusterSC, hughes$hierclust)\n"
   ]
  },
  {
   "cell_type": "code",
   "execution_count": 6,
   "metadata": {
    "collapsed": false
   },
   "outputs": [
    {
     "name": "stdout",
     "output_type": "stream",
     "text": [
      "[1] \"Support Vector Machines\"\n",
      "[1] \"Mariano Rivera\"\n",
      "[1] \"MLB Classification vs SVM:\"\n"
     ]
    },
    {
     "data": {
      "text/plain": [
       "    \n",
       "      FC  FF\n",
       "  FC 787   2\n",
       "  FF   5 118"
      ]
     },
     "execution_count": 6,
     "metadata": {},
     "output_type": "execute_result"
    },
    {
     "name": "stdout",
     "output_type": "stream",
     "text": [
      "[1] \"Hierarchical Clustering vs SVM:\"\n"
     ]
    },
    {
     "data": {
      "text/plain": [
       "   \n",
       "     FC  FF\n",
       "  1 789  14\n",
       "  2   3 106"
      ]
     },
     "execution_count": 6,
     "metadata": {},
     "output_type": "execute_result"
    },
    {
     "name": "stdout",
     "output_type": "stream",
     "text": [
      "[1] \"K-Means vs SVM:\"\n"
     ]
    },
    {
     "data": {
      "text/plain": [
       "   \n",
       "     FC  FF\n",
       "  1  33 116\n",
       "  2 759   4"
      ]
     },
     "execution_count": 6,
     "metadata": {},
     "output_type": "execute_result"
    },
    {
     "name": "stdout",
     "output_type": "stream",
     "text": [
      "[1] \"Phil Hughes\"\n",
      "[1] \"MLB Classification vs SVM:\"\n"
     ]
    },
    {
     "data": {
      "text/plain": [
       "    \n",
       "      FC  FF\n",
       "  FC 148   0\n",
       "  FF   2 796"
      ]
     },
     "execution_count": 6,
     "metadata": {},
     "output_type": "execute_result"
    },
    {
     "name": "stdout",
     "output_type": "stream",
     "text": [
      "[1] \"Hierarchical Clustering vs SVM:\"\n"
     ]
    },
    {
     "data": {
      "text/plain": [
       "   \n",
       "     FC  FF\n",
       "  1   1 782\n",
       "  2 149  14"
      ]
     },
     "execution_count": 6,
     "metadata": {},
     "output_type": "execute_result"
    },
    {
     "name": "stdout",
     "output_type": "stream",
     "text": [
      "[1] \"K-Means vs SVM:\"\n"
     ]
    },
    {
     "data": {
      "text/plain": [
       "   \n",
       "     FC  FF\n",
       "  1   0 784\n",
       "  2 150  12"
      ]
     },
     "execution_count": 6,
     "metadata": {},
     "output_type": "execute_result"
    }
   ],
   "source": [
    "# SVM\n",
    "# http://rischanlab.github.io/SVM.html\n",
    "print(\"Support Vector Machines\")\n",
    "print(\"Mariano Rivera\")\n",
    "svm_model.rivera <- svm(riveraSC, as.factor(rivera$pitch_type))\n",
    "svm_predict.rivera <- predict(svm_model.rivera, riveraSC)\n",
    "rivera$svmpred <- svm_predict.rivera\n",
    "print(\"MLB Classification vs SVM:\")\n",
    "table(rivera$pitch_type, rivera$svmpred)\n",
    "print(\"Hierarchical Clustering vs SVM:\")\n",
    "table(rivera$hierclust, rivera$svmpred)\n",
    "print(\"K-Means vs SVM:\")\n",
    "table(rivera$clusterSC, rivera$svmpred)\n",
    "\n",
    "print(\"Phil Hughes\")\n",
    "svm_model.hughes <- svm(hughesSC, as.factor(hughes$pitch_type), kernel=\"radial\")\n",
    "svm_predict.hughes <- predict(svm_model.hughes, hughesSC)\n",
    "hughes$svmpred <- svm_predict.hughes\n",
    "print(\"MLB Classification vs SVM:\")\n",
    "table(hughes$pitch_type, hughes$svmpred)\n",
    "print(\"Hierarchical Clustering vs SVM:\")\n",
    "table(hughes$hierclust, hughes$svmpred)\n",
    "print(\"K-Means vs SVM:\")\n",
    "table(hughes$clusterSC, hughes$svmpred)\n"
   ]
  },
  {
   "cell_type": "code",
   "execution_count": 7,
   "metadata": {
    "collapsed": true
   },
   "outputs": [],
   "source": [
    "# load game ids to filter out 2010 games where Rivera or Hughes pitched\n",
    "data(gids, package=\"pitchRx\")"
   ]
  },
  {
   "cell_type": "code",
   "execution_count": 8,
   "metadata": {
    "collapsed": false
   },
   "outputs": [],
   "source": [
    "# I manually got all the games Phil Hughes and Mariano Rivera pitched by checking their game logs at mlb.com\n",
    "riveraandhughes2010 = c(\"2010-10-02\",\"2010-09-26\",\"2010-09-21\",\"2010-09-15\",\"2010-09-10\",\"2010-09-05\",\"2010-08-31\",\"2010-08-25\",\"2010-08-19\",\"2010-08-14\",\"2010-08-09\",\"2010-08-04\",\"2010-07-30\",\"2010-07-25\",\"2010-07-20\",\"2010-07-09\",\"2010-07-04\",\"2010-06-29\",\"2010-06-19\",\"2010-06-13\",\"2010-06-08\",\"2010-06-02\",\"2010-05-28\",\"2010-05-22\",\"2010-05-17\",\"2010-05-12\",\"2010-05-07\",\"2010-05-02\",\"2010-04-27\",\"2010-04-21\",\"2010-04-15\",\"2010-09-28\",\"2010-09-20\",\"2010-09-19\",\"2010-09-17\",\"2010-09-14\",\"2010-09-11\",\"2010-09-04\",\"2010-09-03\",\"2010-09-01\",\"2010-08-29\",\"2010-08-28\",\"2010-08-21\",\"2010-08-18\",\"2010-08-17\",\"2010-08-11\",\"2010-08-10\",\"2010-08-08\",\"2010-08-07\",\"2010-07-31\",\"2010-07-26\",\"2010-07-21\",\"2010-07-18\",\"2010-07-16\",\"2010-07-08\",\"2010-07-05\",\"2010-07-02\",\"2010-07-01\",\"2010-06-27\",\"2010-06-25\",\"2010-06-23\",\"2010-06-20\",\"2010-06-11\",\"2010-06-09\",\"2010-06-06\",\"2010-06-03\",\"2010-06-01\",\"2010-05-30\",\"2010-05-26\",\"2010-05-25\",\"2010-05-21\",\"2010-05-18\",\"2010-05-16\",\"2010-05-14\",\"2010-04-30\",\"2010-04-29\",\"2010-04-20\",\"2010-04-18\",\"2010-04-13\",\"2010-04-11\",\"2010-04-07\", \"2010-04-06\")\n",
    "yankees10 = gids[grepl(\"nya\", gids) & grepl(\"2010\", gids)]\n",
    "riveraandhughes2010 = gsub(\"-\",\"_\",riveraandhughes2010)\n",
    "rh2010.gids = unique(grep(paste(riveraandhughes2010,collapse=\"|\"), yankees10, value=TRUE))\n",
    "# rh2010.gids # list of game ids"
   ]
  },
  {
   "cell_type": "code",
   "execution_count": 9,
   "metadata": {
    "collapsed": false
   },
   "outputs": [
    {
     "name": "stderr",
     "output_type": "stream",
     "text": [
      "If file names don't print right away, please be patient.\n"
     ]
    },
    {
     "name": "stdout",
     "output_type": "stream",
     "text": [
      "http://gd2.mlb.com/components/game/mlb/year_2010/month_04/day_06/gid_2010_04_06_nyamlb_bosmlb_1/inning/inning_all.xml \n",
      "http://gd2.mlb.com/components/game/mlb/year_2010/month_04/day_07/gid_2010_04_07_nyamlb_bosmlb_1/inning/inning_all.xml \n",
      "http://gd2.mlb.com/components/game/mlb/year_2010/month_04/day_11/gid_2010_04_11_nyamlb_tbamlb_1/inning/inning_all.xml \n",
      "http://gd2.mlb.com/components/game/mlb/year_2010/month_04/day_13/gid_2010_04_13_anamlb_nyamlb_1/inning/inning_all.xml \n",
      "http://gd2.mlb.com/components/game/mlb/year_2010/month_04/day_15/gid_2010_04_15_anamlb_nyamlb_1/inning/inning_all.xml \n",
      "http://gd2.mlb.com/components/game/mlb/year_2010/month_04/day_18/gid_2010_04_18_texmlb_nyamlb_1/inning/inning_all.xml \n",
      "http://gd2.mlb.com/components/game/mlb/year_2010/month_04/day_20/gid_2010_04_20_nyamlb_oakmlb_1/inning/inning_all.xml \n",
      "http://gd2.mlb.com/components/game/mlb/year_2010/month_04/day_21/gid_2010_04_21_nyamlb_oakmlb_1/inning/inning_all.xml \n",
      "http://gd2.mlb.com/components/game/mlb/year_2010/month_04/day_27/gid_2010_04_27_nyamlb_balmlb_1/inning/inning_all.xml \n",
      "http://gd2.mlb.com/components/game/mlb/year_2010/month_04/day_29/gid_2010_04_29_nyamlb_balmlb_1/inning/inning_all.xml \n",
      "http://gd2.mlb.com/components/game/mlb/year_2010/month_04/day_30/gid_2010_04_30_chamlb_nyamlb_1/inning/inning_all.xml \n",
      "http://gd2.mlb.com/components/game/mlb/year_2010/month_05/day_02/gid_2010_05_02_chamlb_nyamlb_1/inning/inning_all.xml \n",
      "http://gd2.mlb.com/components/game/mlb/year_2010/month_05/day_07/gid_2010_05_07_nyamlb_bosmlb_1/inning/inning_all.xml \n",
      "http://gd2.mlb.com/components/game/mlb/year_2010/month_05/day_12/gid_2010_05_12_nyamlb_detmlb_1/inning/inning_all.xml \n",
      "http://gd2.mlb.com/components/game/mlb/year_2010/month_05/day_12/gid_2010_05_12_nyamlb_detmlb_2/inning/inning_all.xml \n",
      "http://gd2.mlb.com/components/game/mlb/year_2010/month_05/day_14/gid_2010_05_14_minmlb_nyamlb_1/inning/inning_all.xml \n",
      "http://gd2.mlb.com/components/game/mlb/year_2010/month_05/day_16/gid_2010_05_16_minmlb_nyamlb_1/inning/inning_all.xml \n",
      "http://gd2.mlb.com/components/game/mlb/year_2010/month_05/day_17/gid_2010_05_17_bosmlb_nyamlb_1/inning/inning_all.xml \n",
      "http://gd2.mlb.com/components/game/mlb/year_2010/month_05/day_18/gid_2010_05_18_bosmlb_nyamlb_1/inning/inning_all.xml \n",
      "http://gd2.mlb.com/components/game/mlb/year_2010/month_05/day_21/gid_2010_05_21_nyamlb_nynmlb_1/inning/inning_all.xml \n",
      "http://gd2.mlb.com/components/game/mlb/year_2010/month_05/day_22/gid_2010_05_22_nyamlb_nynmlb_1/inning/inning_all.xml \n",
      "http://gd2.mlb.com/components/game/mlb/year_2010/month_05/day_25/gid_2010_05_25_nyamlb_minmlb_1/inning/inning_all.xml \n",
      "http://gd2.mlb.com/components/game/mlb/year_2010/month_05/day_26/gid_2010_05_26_nyamlb_minmlb_1/inning/inning_all.xml \n",
      "http://gd2.mlb.com/components/game/mlb/year_2010/month_05/day_28/gid_2010_05_28_clemlb_nyamlb_1/inning/inning_all.xml \n",
      "http://gd2.mlb.com/components/game/mlb/year_2010/month_05/day_30/gid_2010_05_30_clemlb_nyamlb_1/inning/inning_all.xml \n",
      "http://gd2.mlb.com/components/game/mlb/year_2010/month_06/day_01/gid_2010_06_01_balmlb_nyamlb_1/inning/inning_all.xml \n",
      "http://gd2.mlb.com/components/game/mlb/year_2010/month_06/day_02/gid_2010_06_02_balmlb_nyamlb_1/inning/inning_all.xml \n",
      "http://gd2.mlb.com/components/game/mlb/year_2010/month_06/day_03/gid_2010_06_03_balmlb_nyamlb_1/inning/inning_all.xml \n",
      "http://gd2.mlb.com/components/game/mlb/year_2010/month_06/day_06/gid_2010_06_06_nyamlb_tormlb_1/inning/inning_all.xml \n",
      "http://gd2.mlb.com/components/game/mlb/year_2010/month_06/day_08/gid_2010_06_08_nyamlb_balmlb_1/inning/inning_all.xml \n",
      "http://gd2.mlb.com/components/game/mlb/year_2010/month_06/day_09/gid_2010_06_09_nyamlb_balmlb_1/inning/inning_all.xml \n",
      "http://gd2.mlb.com/components/game/mlb/year_2010/month_06/day_11/gid_2010_06_11_houmlb_nyamlb_1/inning/inning_all.xml \n",
      "http://gd2.mlb.com/components/game/mlb/year_2010/month_06/day_13/gid_2010_06_13_houmlb_nyamlb_1/inning/inning_all.xml \n",
      "http://gd2.mlb.com/components/game/mlb/year_2010/month_06/day_19/gid_2010_06_19_nynmlb_nyamlb_1/inning/inning_all.xml \n",
      "http://gd2.mlb.com/components/game/mlb/year_2010/month_06/day_20/gid_2010_06_20_nynmlb_nyamlb_1/inning/inning_all.xml \n",
      "http://gd2.mlb.com/components/game/mlb/year_2010/month_06/day_23/gid_2010_06_23_nyamlb_arimlb_1/inning/inning_all.xml \n",
      "http://gd2.mlb.com/components/game/mlb/year_2010/month_06/day_25/gid_2010_06_25_nyamlb_lanmlb_1/inning/inning_all.xml \n",
      "http://gd2.mlb.com/components/game/mlb/year_2010/month_06/day_27/gid_2010_06_27_nyamlb_lanmlb_1/inning/inning_all.xml \n",
      "http://gd2.mlb.com/components/game/mlb/year_2010/month_06/day_29/gid_2010_06_29_seamlb_nyamlb_1/inning/inning_all.xml \n",
      "http://gd2.mlb.com/components/game/mlb/year_2010/month_07/day_01/gid_2010_07_01_seamlb_nyamlb_1/inning/inning_all.xml \n",
      "http://gd2.mlb.com/components/game/mlb/year_2010/month_07/day_02/gid_2010_07_02_tormlb_nyamlb_1/inning/inning_all.xml \n",
      "http://gd2.mlb.com/components/game/mlb/year_2010/month_07/day_04/gid_2010_07_04_tormlb_nyamlb_1/inning/inning_all.xml \n",
      "http://gd2.mlb.com/components/game/mlb/year_2010/month_07/day_05/gid_2010_07_05_nyamlb_oakmlb_1/inning/inning_all.xml \n",
      "http://gd2.mlb.com/components/game/mlb/year_2010/month_07/day_08/gid_2010_07_08_nyamlb_seamlb_1/inning/inning_all.xml \n",
      "http://gd2.mlb.com/components/game/mlb/year_2010/month_07/day_09/gid_2010_07_09_nyamlb_seamlb_1/inning/inning_all.xml \n",
      "http://gd2.mlb.com/components/game/mlb/year_2010/month_07/day_16/gid_2010_07_16_tbamlb_nyamlb_1/inning/inning_all.xml \n",
      "http://gd2.mlb.com/components/game/mlb/year_2010/month_07/day_18/gid_2010_07_18_tbamlb_nyamlb_1/inning/inning_all.xml \n",
      "http://gd2.mlb.com/components/game/mlb/year_2010/month_07/day_20/gid_2010_07_20_anamlb_nyamlb_1/inning/inning_all.xml \n",
      "http://gd2.mlb.com/components/game/mlb/year_2010/month_07/day_21/gid_2010_07_21_anamlb_nyamlb_1/inning/inning_all.xml \n",
      "http://gd2.mlb.com/components/game/mlb/year_2010/month_07/day_25/gid_2010_07_25_kcamlb_nyamlb_1/inning/inning_all.xml \n",
      "http://gd2.mlb.com/components/game/mlb/year_2010/month_07/day_26/gid_2010_07_26_nyamlb_clemlb_1/inning/inning_all.xml \n",
      "http://gd2.mlb.com/components/game/mlb/year_2010/month_07/day_30/gid_2010_07_30_nyamlb_tbamlb_1/inning/inning_all.xml \n",
      "http://gd2.mlb.com/components/game/mlb/year_2010/month_07/day_31/gid_2010_07_31_nyamlb_tbamlb_1/inning/inning_all.xml \n",
      "http://gd2.mlb.com/components/game/mlb/year_2010/month_08/day_04/gid_2010_08_04_tormlb_nyamlb_1/inning/inning_all.xml \n",
      "http://gd2.mlb.com/components/game/mlb/year_2010/month_08/day_07/gid_2010_08_07_bosmlb_nyamlb_1/inning/inning_all.xml \n",
      "http://gd2.mlb.com/components/game/mlb/year_2010/month_08/day_08/gid_2010_08_08_bosmlb_nyamlb_1/inning/inning_all.xml \n",
      "http://gd2.mlb.com/components/game/mlb/year_2010/month_08/day_09/gid_2010_08_09_bosmlb_nyamlb_1/inning/inning_all.xml \n",
      "http://gd2.mlb.com/components/game/mlb/year_2010/month_08/day_10/gid_2010_08_10_nyamlb_texmlb_1/inning/inning_all.xml \n",
      "http://gd2.mlb.com/components/game/mlb/year_2010/month_08/day_11/gid_2010_08_11_nyamlb_texmlb_1/inning/inning_all.xml \n",
      "http://gd2.mlb.com/components/game/mlb/year_2010/month_08/day_14/gid_2010_08_14_nyamlb_kcamlb_1/inning/inning_all.xml \n",
      "http://gd2.mlb.com/components/game/mlb/year_2010/month_08/day_17/gid_2010_08_17_detmlb_nyamlb_1/inning/inning_all.xml \n",
      "http://gd2.mlb.com/components/game/mlb/year_2010/month_08/day_18/gid_2010_08_18_detmlb_nyamlb_1/inning/inning_all.xml \n",
      "http://gd2.mlb.com/components/game/mlb/year_2010/month_08/day_19/gid_2010_08_19_detmlb_nyamlb_1/inning/inning_all.xml \n",
      "http://gd2.mlb.com/components/game/mlb/year_2010/month_08/day_21/gid_2010_08_21_seamlb_nyamlb_1/inning/inning_all.xml \n",
      "http://gd2.mlb.com/components/game/mlb/year_2010/month_08/day_25/gid_2010_08_25_nyamlb_tormlb_1/inning/inning_all.xml \n",
      "http://gd2.mlb.com/components/game/mlb/year_2010/month_08/day_28/gid_2010_08_28_nyamlb_chamlb_1/inning/inning_all.xml \n",
      "http://gd2.mlb.com/components/game/mlb/year_2010/month_08/day_29/gid_2010_08_29_nyamlb_chamlb_1/inning/inning_all.xml \n",
      "http://gd2.mlb.com/components/game/mlb/year_2010/month_08/day_31/gid_2010_08_31_oakmlb_nyamlb_1/inning/inning_all.xml \n",
      "http://gd2.mlb.com/components/game/mlb/year_2010/month_09/day_01/gid_2010_09_01_oakmlb_nyamlb_1/inning/inning_all.xml \n",
      "http://gd2.mlb.com/components/game/mlb/year_2010/month_09/day_03/gid_2010_09_03_tormlb_nyamlb_1/inning/inning_all.xml \n",
      "http://gd2.mlb.com/components/game/mlb/year_2010/month_09/day_04/gid_2010_09_04_tormlb_nyamlb_1/inning/inning_all.xml \n",
      "http://gd2.mlb.com/components/game/mlb/year_2010/month_09/day_05/gid_2010_09_05_tormlb_nyamlb_1/inning/inning_all.xml \n",
      "http://gd2.mlb.com/components/game/mlb/year_2010/month_09/day_10/gid_2010_09_10_nyamlb_texmlb_1/inning/inning_all.xml \n",
      "http://gd2.mlb.com/components/game/mlb/year_2010/month_09/day_11/gid_2010_09_11_nyamlb_texmlb_1/inning/inning_all.xml \n",
      "http://gd2.mlb.com/components/game/mlb/year_2010/month_09/day_14/gid_2010_09_14_nyamlb_tbamlb_1/inning/inning_all.xml \n",
      "http://gd2.mlb.com/components/game/mlb/year_2010/month_09/day_15/gid_2010_09_15_nyamlb_tbamlb_1/inning/inning_all.xml \n",
      "http://gd2.mlb.com/components/game/mlb/year_2010/month_09/day_17/gid_2010_09_17_nyamlb_balmlb_1/inning/inning_all.xml \n",
      "http://gd2.mlb.com/components/game/mlb/year_2010/month_09/day_19/gid_2010_09_19_nyamlb_balmlb_1/inning/inning_all.xml \n",
      "http://gd2.mlb.com/components/game/mlb/year_2010/month_09/day_20/gid_2010_09_20_tbamlb_nyamlb_1/inning/inning_all.xml \n",
      "http://gd2.mlb.com/components/game/mlb/year_2010/month_09/day_21/gid_2010_09_21_tbamlb_nyamlb_1/inning/inning_all.xml \n",
      "http://gd2.mlb.com/components/game/mlb/year_2010/month_09/day_26/gid_2010_09_26_bosmlb_nyamlb_1/inning/inning_all.xml \n",
      "http://gd2.mlb.com/components/game/mlb/year_2010/month_09/day_28/gid_2010_09_28_nyamlb_tormlb_1/inning/inning_all.xml \n",
      "http://gd2.mlb.com/components/game/mlb/year_2010/month_10/day_02/gid_2010_10_02_nyamlb_bosmlb_1/inning/inning_all.xml \n",
      "http://gd2.mlb.com/components/game/mlb/year_2010/month_10/day_02/gid_2010_10_02_nyamlb_bosmlb_2/inning/inning_all.xml \n"
     ]
    }
   ],
   "source": [
    "# this took over 5 minutes on my computer\n",
    "dat <- scrape(game.ids = rh2010.gids, async = FALSE)"
   ]
  },
  {
   "cell_type": "code",
   "execution_count": 22,
   "metadata": {
    "collapsed": false,
    "scrolled": false
   },
   "outputs": [
    {
     "data": {
      "text/html": [
       "<ol class=list-inline>\n",
       "\t<li>25692</li>\n",
       "\t<li>76</li>\n",
       "</ol>\n"
      ],
      "text/latex": [
       "\\begin{enumerate*}\n",
       "\\item 25692\n",
       "\\item 76\n",
       "\\end{enumerate*}\n"
      ],
      "text/markdown": [
       "1. 25692\n",
       "2. 76\n",
       "\n",
       "\n"
      ],
      "text/plain": [
       "[1] 25692    76"
      ]
     },
     "execution_count": 22,
     "metadata": {},
     "output_type": "execute_result"
    },
    {
     "data": {
      "text/plain": [
       "\n",
       " FC  FF  IN  PO \n",
       "751 164   7   1 "
      ]
     },
     "execution_count": 22,
     "metadata": {},
     "output_type": "execute_result"
    }
   ],
   "source": [
    "rh2010dat = dat$pitch %>% left_join(dat$atbat, by = c(\"num\",\"gameday_link\"))\n",
    "dim(rh2010dat)\n",
    "#25692 71\n",
    "rivera2010 = subset(rh2010dat, pitcher == 121250 & (pitch_type == \"FC\" | pitch_type == \"FF\"))\n",
    "hughes2010 = subset(rh2010dat, pitcher == 461833 & (pitch_type == \"FC\" | pitch_type == \"FF\"))\n",
    "#names(rivera2010[,c(12, 29, 30, 31, 36, 37)])\n",
    "#unique(rivera2010$pitch_type)\n",
    "rivera2010NSC = sapply(rivera2010[,c(12, 29, 30, 31, 36, 37)], as.numeric)\n",
    "rivera2010SC = scale(rivera2010NSC)\n",
    "hughes2010NSC = sapply(hughes2010[,c(12, 29, 30, 31, 36, 37)], as.numeric)\n",
    "hughes2010SC = scale(hughes2010NSC)\n",
    "#table(subset(rh2010dat, pitcher == 121250)$pitch_type)"
   ]
  },
  {
   "cell_type": "code",
   "execution_count": 25,
   "metadata": {
    "collapsed": false
   },
   "outputs": [
    {
     "name": "stdout",
     "output_type": "stream",
     "text": [
      "[1] \"K-Means Clustering\"\n",
      "[1] \"Mariano Rivera\"\n"
     ]
    },
    {
     "data": {
      "text/plain": [
       "    \n",
       "       1   2\n",
       "  FC 743   8\n",
       "  FF  17 147"
      ]
     },
     "execution_count": 25,
     "metadata": {},
     "output_type": "execute_result"
    },
    {
     "name": "stdout",
     "output_type": "stream",
     "text": [
      "[1] \"Phil Hughes\"\n"
     ]
    },
    {
     "data": {
      "text/plain": [
       "    \n",
       "        1    2\n",
       "  FC    0  348\n",
       "  FF 1777  158"
      ]
     },
     "execution_count": 25,
     "metadata": {},
     "output_type": "execute_result"
    }
   ],
   "source": [
    "# KMeans Clustering\n",
    "print(\"K-Means Clustering\")\n",
    "print(\"Mariano Rivera\")\n",
    "pclust.SC.rivera2010 <- kmeans(rivera2010SC, 2, nstart=10)\n",
    "rivera2010$clusterSC <- pclust.SC.rivera2010$cluster\n",
    "table(rivera2010$pitch_type, rivera2010$clusterSC)\n",
    "\n",
    "print(\"Phil Hughes\")\n",
    "pclust.SC.hughes2010 <- kmeans(hughes2010SC, 2, nstart=10)\n",
    "hughes2010$clusterSC <- pclust.SC.hughes2010$cluster\n",
    "table(hughes2010$pitch_type, hughes2010$clusterSC)\n"
   ]
  },
  {
   "cell_type": "code",
   "execution_count": 26,
   "metadata": {
    "collapsed": false
   },
   "outputs": [
    {
     "name": "stdout",
     "output_type": "stream",
     "text": [
      "[1] \"Hierarchical Clustering\"\n",
      "[1] \"Mariano Rivera\"\n"
     ]
    },
    {
     "data": {
      "text/plain": [
       "    \n",
       "       1   2\n",
       "  FC 719  32\n",
       "  FF  33 131"
      ]
     },
     "execution_count": 26,
     "metadata": {},
     "output_type": "execute_result"
    },
    {
     "data": {
      "text/plain": [
       "   \n",
       "      1   2\n",
       "  1 734  26\n",
       "  2  18 137"
      ]
     },
     "execution_count": 26,
     "metadata": {},
     "output_type": "execute_result"
    },
    {
     "name": "stdout",
     "output_type": "stream",
     "text": [
      "[1] \"Phil Hughes\"\n"
     ]
    },
    {
     "data": {
      "text/plain": [
       "    \n",
       "        1    2\n",
       "  FC    1  347\n",
       "  FF 1806  129"
      ]
     },
     "execution_count": 26,
     "metadata": {},
     "output_type": "execute_result"
    },
    {
     "data": {
      "text/plain": [
       "   \n",
       "       1    2\n",
       "  1 1759   18\n",
       "  2   48  458"
      ]
     },
     "execution_count": 26,
     "metadata": {},
     "output_type": "execute_result"
    }
   ],
   "source": [
    "# Hierarchical Clustering\n",
    "# http://www.r-tutor.com/gpu-computing/clustering/hierarchical-cluster-analysis\n",
    "# https://stat.ethz.ch/R-manual/R-devel/library/stats/html/dist.html\n",
    "# https://stat.ethz.ch/R-manual/R-devel/library/stats/html/hclust.html\n",
    "print(\"Hierarchical Clustering\")\n",
    "print(\"Mariano Rivera\")\n",
    "d.rivera2010 = dist(as.matrix(rivera2010SC), method = 'maximum')\n",
    "hc.rivera2010 = hclust(d.rivera2010, method = 'ward.D2')\n",
    "clustcut.rivera2010 = cutree(hc.rivera2010, 2)\n",
    "rivera2010$hierclust <- clustcut.rivera2010\n",
    "table(rivera2010$pitch_type, rivera2010$hierclust)\n",
    "table(rivera2010$clusterSC, rivera2010$hierclust)\n",
    "\n",
    "print(\"Phil Hughes\")\n",
    "d.hughes2010 = dist(as.matrix(hughes2010SC), method = 'maximum')\n",
    "hc.hughes2010 = hclust(d.hughes2010, method = 'ward.D2')\n",
    "clustcut.hughes2010 = cutree(hc.hughes2010, 2)\n",
    "hughes2010$hierclust <- clustcut.hughes2010\n",
    "table(hughes2010$pitch_type, hughes2010$hierclust)\n",
    "table(hughes2010$clusterSC, hughes2010$hierclust)\n"
   ]
  },
  {
   "cell_type": "code",
   "execution_count": 28,
   "metadata": {
    "collapsed": false
   },
   "outputs": [
    {
     "name": "stdout",
     "output_type": "stream",
     "text": [
      "[1] \"SVM w/2011 Model\"\n",
      "[1] \"Mariano Rivera\"\n",
      "[1] \"MLB Classification vs SVM:\"\n"
     ]
    },
    {
     "data": {
      "text/plain": [
       "    \n",
       "      FC  FF\n",
       "  FC 750   1\n",
       "  FF  22 142"
      ]
     },
     "execution_count": 28,
     "metadata": {},
     "output_type": "execute_result"
    },
    {
     "name": "stdout",
     "output_type": "stream",
     "text": [
      "[1] \"Phil Hughes\"\n",
      "[1] \"MLB Classification vs SVM:\"\n"
     ]
    },
    {
     "data": {
      "text/plain": [
       "    \n",
       "       FC   FF\n",
       "  FC  347    1\n",
       "  FF   76 1859"
      ]
     },
     "execution_count": 28,
     "metadata": {},
     "output_type": "execute_result"
    }
   ],
   "source": [
    "print(\"SVM w/2011 Model\")\n",
    "\n",
    "print(\"Mariano Rivera\")\n",
    "#svm_model.rivera2010 <- svm(rivera2010SC, as.factor(rivera2010$pitch_type)) # this would create a new model, we want to use the old one\n",
    "svm_predict.rivera2010 <- predict(svm_model.rivera, rivera2010SC)\n",
    "rivera2010$svmpred <- svm_predict.rivera2010\n",
    "print(\"MLB Classification vs SVM:\")\n",
    "table(rivera2010$pitch_type, rivera2010$svmpred)\n",
    "\n",
    "print(\"Phil Hughes\")\n",
    "svm_predict.hughes2010 <- predict(svm_model.hughes, hughes2010SC)\n",
    "hughes2010$svmpred <- svm_predict.hughes2010\n",
    "print(\"MLB Classification vs SVM:\")\n",
    "table(hughes2010$pitch_type, hughes2010$svmpred)\n",
    "\n"
   ]
  },
  {
   "cell_type": "code",
   "execution_count": null,
   "metadata": {
    "collapsed": true
   },
   "outputs": [],
   "source": []
  }
 ],
 "metadata": {
  "kernelspec": {
   "display_name": "R",
   "language": "R",
   "name": "ir"
  },
  "language_info": {
   "codemirror_mode": "r",
   "file_extension": ".r",
   "mimetype": "text/x-r-source",
   "name": "R",
   "pygments_lexer": "r",
   "version": "3.2.2"
  }
 },
 "nbformat": 4,
 "nbformat_minor": 0
}
