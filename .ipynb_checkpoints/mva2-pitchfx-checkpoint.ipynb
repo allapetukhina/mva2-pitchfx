{
 "cells": [
  {
   "cell_type": "markdown",
   "metadata": {},
   "source": [
    "# MVA2 PitchFX Cluster Project\n"
   ]
  },
  {
   "cell_type": "code",
   "execution_count": 5,
   "metadata": {
    "collapsed": false
   },
   "outputs": [
    {
     "name": "stderr",
     "output_type": "stream",
     "text": [
      "also installing the dependencies ‘XML’, ‘RCurl’, ‘XML2R’\n",
      "\n"
     ]
    },
    {
     "name": "stdout",
     "output_type": "stream",
     "text": [
      "\n",
      "The downloaded source packages are in\n",
      "\t‘/tmp/RtmpjqS5L7/downloaded_packages’\n"
     ]
    },
    {
     "name": "stderr",
     "output_type": "stream",
     "text": [
      "Updating HTML index of packages in '.Library'\n",
      "Making 'packages.html' ... done\n"
     ]
    }
   ],
   "source": [
    "options(repos = c(CRAN = \"http://cran.rstudio.com\"))\n",
    "install.packages(\"pitchRx\")"
   ]
  },
  {
   "cell_type": "code",
   "execution_count": 6,
   "metadata": {
    "collapsed": false
   },
   "outputs": [
    {
     "name": "stderr",
     "output_type": "stream",
     "text": [
      "Loading required package: ggplot2\n"
     ]
    }
   ],
   "source": [
    "library(pitchRx)"
   ]
  },
  {
   "cell_type": "code",
   "execution_count": 11,
   "metadata": {
    "collapsed": false
   },
   "outputs": [],
   "source": [
    "rivera = subset(pitches, pitcher == 121250)\n",
    "hughes = subset(pitches, pitcher == 461833)\n",
    "\n"
   ]
  },
  {
   "cell_type": "code",
   "execution_count": 12,
   "metadata": {
    "collapsed": false
   },
   "outputs": [
    {
     "data": {
      "text/html": [
       "<ol class=list-inline>\n",
       "\t<li>946</li>\n",
       "\t<li>70</li>\n",
       "</ol>\n"
      ],
      "text/latex": [
       "\\begin{enumerate*}\n",
       "\\item 946\n",
       "\\item 70\n",
       "\\end{enumerate*}\n"
      ],
      "text/markdown": [
       "1. 946\n",
       "2. 70\n",
       "\n",
       "\n"
      ],
      "text/plain": [
       "[1] 946  70"
      ]
     },
     "execution_count": 12,
     "metadata": {},
     "output_type": "execute_result"
    }
   ],
   "source": [
    "dim(hughes)\n",
    "# 946 70\n",
    "names(hughes)\n",
    "# 'url' 'inning_side' 'inning' 'next_' 'num' 'gameday_link' 'row_names' 'des' 'des_es' 'id' 'type' 'tfs' 'tfs_zulu' 'x' 'y' 'sv_id' 'start_speed' 'end_speed' 'sz_top' 'sz_bot' 'pfx_x' 'pfx_z' 'px' 'pz' 'x0' 'y0' 'z0' 'vx0' 'vy0' 'vz0' 'ax' 'ay' 'az' 'break_y' 'break_angle' 'break_length' 'pitch_type' 'type_confidence' 'zone' 'nasty' 'spin_dir' 'spin_rate' 'cc' 'mt' 'on_1b' 'on_2b' 'on_3b' 'count' 'pitcher' 'batter' 'b' 's' 'o' 'start_tfs' 'start_tfs_zulu' 'stand' 'b_height' 'p_throws' 'atbat_des' 'atbat_des_es' 'event' 'score' 'home_team_runs' 'away_team_runs' 'event2' 'event3' 'batter_name' 'pitcher_name' 'event4' 'date'"
   ]
  },
  {
   "cell_type": "code",
   "execution_count": 118,
   "metadata": {
    "collapsed": false
   },
   "outputs": [
    {
     "name": "stdout",
     "output_type": "stream",
     "text": [
      "[1] \"Mariano Rivera\"\n"
     ]
    },
    {
     "data": {
      "text/plain": [
       "    \n",
       "       1   2\n",
       "  FC 375 414\n",
       "  FF  85  38"
      ]
     },
     "execution_count": 118,
     "metadata": {},
     "output_type": "execute_result"
    },
    {
     "data": {
      "text/plain": [
       "    \n",
       "       1   2\n",
       "  FC 759  30\n",
       "  FF   4 119"
      ]
     },
     "execution_count": 118,
     "metadata": {},
     "output_type": "execute_result"
    },
    {
     "name": "stdout",
     "output_type": "stream",
     "text": [
      "[1] \"Phil Hughes\"\n"
     ]
    },
    {
     "data": {
      "text/plain": [
       "    \n",
       "       1   2\n",
       "  FC 136  12\n",
       "  FF 192 606"
      ]
     },
     "execution_count": 118,
     "metadata": {},
     "output_type": "execute_result"
    },
    {
     "data": {
      "text/plain": [
       "    \n",
       "       1   2\n",
       "  FC   0 148\n",
       "  FF 784  14"
      ]
     },
     "execution_count": 118,
     "metadata": {},
     "output_type": "execute_result"
    }
   ],
   "source": [
    "# KMeans Clustering\n",
    "\n",
    "# rivera[,c(17, 34, 35, 36, 41, 42)]\n",
    "# start_speed break_y break_angle break_length spin_dir spin_rate\n",
    "\n",
    "print(\"Mariano Rivera\")\n",
    "riveraNSC = sapply(rivera[,c(17, 34, 35, 36, 41, 42)], as.numeric)\n",
    "riveraSC = scale(riveraNSC)\n",
    "pclust.NSC.rivera <- kmeans(riveraNSC, 2, nstart=10)\n",
    "rivera$clusterNSC <- pclust.NSC.rivera$cluster\n",
    "pclust.SC.rivera <- kmeans(riveraSC, 2, nstart=10)\n",
    "rivera$clusterSC <- pclust.SC.rivera$cluster\n",
    "table(rivera$pitch_type, rivera$clusterNSC)\n",
    "table(rivera$pitch_type, rivera$clusterSC)\n",
    "\n",
    "print(\"Phil Hughes\")\n",
    "hughesNSC = sapply(hughes[,c(17, 34, 35, 36, 41, 42)], as.numeric)\n",
    "hughesSC = scale(hughesNSC)\n",
    "pclust.NSC.hughes <- kmeans(hughesNSC, 2, nstart=10)\n",
    "hughes$clusterNSC <- pclust.NSC.hughes$cluster\n",
    "pclust.SC.hughes <- kmeans(hughesSC, 2, nstart=10)\n",
    "hughes$clusterSC <- pclust.SC.hughes$cluster\n",
    "table(hughes$pitch_type, hughes$clusterNSC)\n",
    "table(hughes$pitch_type, hughes$clusterSC)"
   ]
  },
  {
   "cell_type": "code",
   "execution_count": 109,
   "metadata": {
    "collapsed": false
   },
   "outputs": [
    {
     "data": {
      "text/plain": [
       "    \n",
       "       1   2\n",
       "  FC 786   3\n",
       "  FF  17 106"
      ]
     },
     "execution_count": 109,
     "metadata": {},
     "output_type": "execute_result"
    },
    {
     "data": {
      "text/plain": [
       "   \n",
       "      1   2\n",
       "  1  41 108\n",
       "  2 762   1"
      ]
     },
     "execution_count": 109,
     "metadata": {},
     "output_type": "execute_result"
    }
   ],
   "source": [
    "# Hierarchical Clustering\n",
    "# http://www.r-tutor.com/gpu-computing/clustering/hierarchical-cluster-analysis\n",
    "# https://stat.ethz.ch/R-manual/R-devel/library/stats/html/dist.html\n",
    "# https://stat.ethz.ch/R-manual/R-devel/library/stats/html/hclust.html\n",
    "\n",
    "d.rivera = dist(as.matrix(riveraSC), method = 'maximum')\n",
    "hc.rivera = hclust(d.rivera, method = 'ward.D2')\n",
    "clustcut.rivera = cutree(hc.rivera, 2)\n",
    "rivera$hierclust <- clustcut.rivera\n",
    "table(rivera$pitch_type, rivera$hierclust)\n",
    "table(rivera$clusterSC, rivera$hierclust)\n"
   ]
  },
  {
   "cell_type": "code",
   "execution_count": 108,
   "metadata": {
    "collapsed": false
   },
   "outputs": [
    {
     "data": {
      "text/plain": [
       "    \n",
       "       1   2\n",
       "  FC   1 147\n",
       "  FF 782  16"
      ]
     },
     "execution_count": 108,
     "metadata": {},
     "output_type": "execute_result"
    },
    {
     "data": {
      "text/plain": [
       "   \n",
       "      1   2\n",
       "  1 773  11\n",
       "  2  10 152"
      ]
     },
     "execution_count": 108,
     "metadata": {},
     "output_type": "execute_result"
    }
   ],
   "source": [
    "d.hughes = dist(as.matrix(hughesSC), method = 'maximum')\n",
    "hc.hughes = hclust(d.hughes, method = 'ward.D2')\n",
    "clustcut.hughes = cutree(hc.hughes, 2)\n",
    "hughes$hierclust <- clustcut.hughes\n",
    "table(hughes$pitch_type, hughes$hierclust)\n",
    "table(hughes$clusterSC, hughes$hierclust)\n"
   ]
  },
  {
   "cell_type": "code",
   "execution_count": 97,
   "metadata": {
    "collapsed": false
   },
   "outputs": [],
   "source": [
    "#install.packages(\"kernlab\")\n",
    "#library(kernlab)"
   ]
  },
  {
   "cell_type": "code",
   "execution_count": 99,
   "metadata": {
    "collapsed": false
   },
   "outputs": [
    {
     "name": "stdout",
     "output_type": "stream",
     "text": [
      "\n",
      "The downloaded source packages are in\n",
      "\t‘/tmp/RtmpjqS5L7/downloaded_packages’\n"
     ]
    },
    {
     "name": "stderr",
     "output_type": "stream",
     "text": [
      "Updating HTML index of packages in '.Library'\n",
      "Making 'packages.html' ... done\n"
     ]
    }
   ],
   "source": [
    "#install.packages(\"e1071\")\n",
    "library(e1071)"
   ]
  },
  {
   "cell_type": "code",
   "execution_count": 116,
   "metadata": {
    "collapsed": false
   },
   "outputs": [
    {
     "name": "stdout",
     "output_type": "stream",
     "text": [
      "[1] \"MLB Classification vs SVM:\"\n"
     ]
    },
    {
     "data": {
      "text/plain": [
       "    \n",
       "      FC  FF\n",
       "  FC 787   2\n",
       "  FF   5 118"
      ]
     },
     "execution_count": 116,
     "metadata": {},
     "output_type": "execute_result"
    },
    {
     "name": "stdout",
     "output_type": "stream",
     "text": [
      "[1] \"Hierarchical Clustering vs SVM:\"\n"
     ]
    },
    {
     "data": {
      "text/plain": [
       "   \n",
       "     FC  FF\n",
       "  1 789  14\n",
       "  2   3 106"
      ]
     },
     "execution_count": 116,
     "metadata": {},
     "output_type": "execute_result"
    },
    {
     "name": "stdout",
     "output_type": "stream",
     "text": [
      "[1] \"K-Means vs SVM:\"\n"
     ]
    },
    {
     "data": {
      "text/plain": [
       "   \n",
       "     FC  FF\n",
       "  1  33 116\n",
       "  2 759   4"
      ]
     },
     "execution_count": 116,
     "metadata": {},
     "output_type": "execute_result"
    }
   ],
   "source": [
    "# SVM\n",
    "# http://rischanlab.github.io/SVM.html\n",
    "\n",
    "svm_model.rivera <- svm(riveraSC, as.factor(rivera$pitch_type))\n",
    "svm_predict.rivera <- predict(svm_model.rivera, riveraSC)\n",
    "rivera$svmpred <- svm_predict.rivera\n",
    "print(\"MLB Classification vs SVM:\")\n",
    "table(rivera$pitch_type, rivera$svmpred)\n",
    "print(\"Hierarchical Clustering vs SVM:\")\n",
    "table(rivera$hierclust, rivera$svmpred)\n",
    "print(\"K-Means vs SVM:\")\n",
    "table(rivera$clusterSC, rivera$svmpred)\n",
    "\n"
   ]
  },
  {
   "cell_type": "code",
   "execution_count": 123,
   "metadata": {
    "collapsed": false
   },
   "outputs": [
    {
     "name": "stdout",
     "output_type": "stream",
     "text": [
      "[1] \"MLB Classification vs SVM:\"\n"
     ]
    },
    {
     "data": {
      "text/plain": [
       "    \n",
       "      FC  FF\n",
       "  FC 148   0\n",
       "  FF   2 796"
      ]
     },
     "execution_count": 123,
     "metadata": {},
     "output_type": "execute_result"
    },
    {
     "name": "stdout",
     "output_type": "stream",
     "text": [
      "[1] \"Hierarchical Clustering vs SVM:\"\n"
     ]
    },
    {
     "data": {
      "text/plain": [
       "   \n",
       "     FC  FF\n",
       "  1   1 782\n",
       "  2 149  14"
      ]
     },
     "execution_count": 123,
     "metadata": {},
     "output_type": "execute_result"
    },
    {
     "name": "stdout",
     "output_type": "stream",
     "text": [
      "[1] \"K-Means vs SVM:\"\n"
     ]
    },
    {
     "data": {
      "text/plain": [
       "   \n",
       "     FC  FF\n",
       "  1   0 784\n",
       "  2 150  12"
      ]
     },
     "execution_count": 123,
     "metadata": {},
     "output_type": "execute_result"
    }
   ],
   "source": [
    "svm_model.hughes <- svm(hughesSC, as.factor(hughes$pitch_type), kernel=\"radial\")\n",
    "svm_predict.hughes <- predict(svm_model.hughes, hughesSC)\n",
    "hughes$svmpred <- svm_predict.hughes\n",
    "print(\"MLB Classification vs SVM:\")\n",
    "table(hughes$pitch_type, hughes$svmpred)\n",
    "print(\"Hierarchical Clustering vs SVM:\")\n",
    "table(hughes$hierclust, hughes$svmpred)\n",
    "print(\"K-Means vs SVM:\")\n",
    "table(hughes$clusterSC, hughes$svmpred)\n"
   ]
  },
  {
   "cell_type": "code",
   "execution_count": null,
   "metadata": {
    "collapsed": true
   },
   "outputs": [],
   "source": []
  }
 ],
 "metadata": {
  "kernelspec": {
   "display_name": "R",
   "language": "R",
   "name": "ir"
  },
  "language_info": {
   "codemirror_mode": "r",
   "file_extension": ".r",
   "mimetype": "text/x-r-source",
   "name": "R",
   "pygments_lexer": "r",
   "version": "3.2.2"
  }
 },
 "nbformat": 4,
 "nbformat_minor": 0
}
